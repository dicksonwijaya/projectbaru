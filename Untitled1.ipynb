{
  "nbformat": 4,
  "nbformat_minor": 0,
  "metadata": {
    "colab": {
      "private_outputs": true,
      "provenance": []
    },
    "kernelspec": {
      "name": "python3",
      "display_name": "Python 3"
    },
    "language_info": {
      "name": "python"
    }
  },
  "cells": [
    {
      "cell_type": "code",
      "source": [
        "pip install beautifulsoup4"
      ],
      "metadata": {
        "id": "6bC39SpSwnoq"
      },
      "execution_count": null,
      "outputs": []
    },
    {
      "cell_type": "code",
      "source": [
        "pip install requests"
      ],
      "metadata": {
        "id": "HL3wCXPFwmfL"
      },
      "execution_count": null,
      "outputs": []
    },
    {
      "cell_type": "code",
      "execution_count": null,
      "metadata": {
        "id": "ooZiw1JewYrL"
      },
      "outputs": [],
      "source": [
        "import requests\n",
        "\n",
        "response = requests.get(\n",
        "    \"https://zh.wikipedia.org/zh-tw/Joeman\")\n",
        "soup = BeautifulSoup(response.text, \"html.parser\")\n",
        "print(soup.prettify())"
      ]
    },
    {
      "cell_type": "code",
      "source": [
        "import requests\n",
        "from bs4 import BeautifulSoup\n",
        "\n",
        "def search_wikipedia(keyword):\n",
        "    # 构建维基百科搜索URL\n",
        "    search_url = f\"https://zh.wikipedia.org/zh-tw/{keyword}\"\n",
        "\n",
        "    # 发送HTTP GET请求以获取页面内容\n",
        "    response = requests.get(search_url)\n",
        "\n",
        "\n",
        "    if response.status_code == 200:\n",
        "        # 使用BeautifulSoup解析页面内容\n",
        "        soup = BeautifulSoup(response.text, 'html.parser')\n",
        "\n",
        "        # 找到页面\n",
        "        content = soup.find_all('table', {'class': 'wikitable'})\n",
        "\n",
        "        for index, contents in enumerate(content):\n",
        "            # 提取文本内容\n",
        "            achievement = contents.get_text()\n",
        "            print(f\"奖项记录表格 {index + 1}:\")\n",
        "            # 打印文本内容（这里可以根据需要进行进一步处理）\n",
        "            print(achievement)\n",
        "        else:\n",
        "            print(\"未找到页面内容\")\n",
        "    else:\n",
        "        print(\"无法获取维基百科页面内容，HTTP错误码:\", response.status_code)\n",
        "\n",
        "if __name__ == \"__main__\":\n",
        "    keyword = input(\"请输入要搜索的维基百科关键字：\")\n",
        "    search_wikipedia(keyword)\n"
      ],
      "metadata": {
        "id": "2M4PhzzlwgZy"
      },
      "execution_count": null,
      "outputs": []
    },
    {
      "cell_type": "code",
      "source": [
        "import requests\n",
        "from bs4 import BeautifulSoup\n",
        "\n",
        "def search_wikipedia(keyword):\n",
        "    # 构建维基百科搜索URL\n",
        "    search_url = f\"https://zh.wikipedia.org/zh-tw/{keyword}\"\n",
        "\n",
        "    # 发送HTTP GET请求以获取页面内容\n",
        "    response = requests.get(search_url)\n",
        "\n",
        "    # 检查是否成功获取页面内容\n",
        "    if response.status_code == 200:\n",
        "        # 使用BeautifulSoup解析页面内容\n",
        "        soup = BeautifulSoup(response.text, 'html.parser')\n",
        "\n",
        "        # 找到页面的主要内容（这里的选择器可能需要根据实际页面结构进行调整）\n",
        "        content = soup.find_all('table', {'class': 'wikitable'})\n",
        "\n",
        "        for index, contents in enumerate(content):\n",
        "            # 提取文本内容\n",
        "            achievement = contents.get_text()\n",
        "            print(f\"奖项记录 {index + 1}:\")\n",
        "            # 打印文本内容（这里可以根据需要进行进一步处理）\n",
        "            print(achievement)\n",
        "        else:\n",
        "            print(\"未找到页面内容\")\n",
        "    else:\n",
        "        print(\"无法获取维基百科页面内容，HTTP错误码:\", response.status_code)\n",
        "\n",
        "if __name__ == \"__main__\":\n",
        "    keyword = input(\"请输入要搜索的维基百科关键字：\")\n",
        "    search_wikipedia(keyword)"
      ],
      "metadata": {
        "id": "AYKVI-ih10vn"
      },
      "execution_count": null,
      "outputs": []
    },
    {
      "cell_type": "code",
      "source": [],
      "metadata": {
        "id": "4aOLxct48QyR"
      },
      "execution_count": null,
      "outputs": []
    }
  ]
}